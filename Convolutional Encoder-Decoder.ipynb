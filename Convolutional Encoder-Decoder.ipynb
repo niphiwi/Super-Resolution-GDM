{
 "cells": [
  {
   "cell_type": "markdown",
   "id": "1d248f41",
   "metadata": {},
   "source": [
    "Dependencies:\n",
    "* torch\n",
    "* numpy\n",
    "* natsort\n",
    "* os\n",
    "* tqdm\n",
    "* matplotlib\n",
    "* scipy"
   ]
  },
  {
   "cell_type": "code",
   "execution_count": 2,
   "id": "335f818a",
   "metadata": {
    "ExecuteTime": {
     "end_time": "2022-01-10T15:03:51.128753Z",
     "start_time": "2022-01-10T15:03:50.702888Z"
    },
    "execution": {
     "iopub.execute_input": "2022-04-26T15:17:02.054327Z",
     "iopub.status.busy": "2022-04-26T15:17:02.053990Z",
     "iopub.status.idle": "2022-04-26T15:17:02.062117Z",
     "shell.execute_reply": "2022-04-26T15:17:02.061372Z",
     "shell.execute_reply.started": "2022-04-26T15:17:02.054286Z"
    },
    "tags": []
   },
   "outputs": [
    {
     "data": {
      "text/plain": [
       "<torch._C.Generator at 0x7f15740f2250>"
      ]
     },
     "execution_count": 2,
     "metadata": {},
     "output_type": "execute_result"
    }
   ],
   "source": [
    "import torch\n",
    "device = torch.device(\"cuda\" if torch.cuda.is_available() else \"cpu\")\n",
    "\n",
    "# Set manual seed for reproducability\n",
    "torch.manual_seed(9)"
   ]
  },
  {
   "cell_type": "markdown",
   "id": "9045f8c5",
   "metadata": {},
   "source": [
    "## Data preparation\n",
    "Get train and test set"
   ]
  },
  {
   "cell_type": "code",
   "execution_count": 3,
   "id": "0de72940",
   "metadata": {
    "ExecuteTime": {
     "end_time": "2022-01-10T15:03:51.771949Z",
     "start_time": "2022-01-10T15:03:51.131431Z"
    },
    "execution": {
     "iopub.execute_input": "2022-04-26T15:17:02.312386Z",
     "iopub.status.busy": "2022-04-26T15:17:02.312029Z",
     "iopub.status.idle": "2022-04-26T15:17:03.023589Z",
     "shell.execute_reply": "2022-04-26T15:17:03.023031Z",
     "shell.execute_reply.started": "2022-04-26T15:17:02.312353Z"
    }
   },
   "outputs": [],
   "source": [
    "import os\n",
    "import natsort\n",
    "import numpy as np\n",
    "from torch.utils import data\n",
    "\n",
    "class GasDataSet(data.Dataset):\n",
    "    \"\"\"Create a custom PyTorch Dataset that can be used by PyTorch DataLoaders.\"\"\"\n",
    "    def __init__(self, root, max_val=1):\n",
    "        self.root = root\n",
    "        self.max_val = max_val\n",
    "        \n",
    "        files = []\n",
    "        # Grab all files into the files array\n",
    "        for season in natsort.natsorted(os.listdir(root)):\n",
    "            for location in natsort.natsorted(os.listdir(os.path.join(root, season))):\n",
    "                for file in natsort.natsorted(os.listdir(os.path.join(root, season, location))):\n",
    "                    file_path = os.path.join(root, season, location, file)\n",
    "                    files.append(file_path)\n",
    "        self.files = files\n",
    "        \n",
    "    def __len__(self):\n",
    "        return (len(self.files))\n",
    "    \n",
    "    def __getitem__(self, idx):\n",
    "        \"\"\"Return the next batch of data, when the DataLoader is quering the dataset.\"\"\"\n",
    "        path = self.files[idx]\n",
    "        X = torch.Tensor(np.loadtxt(path, delimiter=','))\n",
    "        \n",
    "        # Add dimension to represent the channel (here: grayscale -> only 1 channel) \n",
    "        X = X.unsqueeze(0)\n",
    "        \n",
    "        X = X.log()\n",
    "        X = torch.clamp(X, min=0)\n",
    "        \n",
    "        # Normalize the data by maximum value (default: 1)\n",
    "        X = X/self.max_val\n",
    "        \n",
    "        return X \n",
    "    \n",
    "    \n",
    "def get_total_max(train_loader):\n",
    "    \"\"\"Find the maximum value of the training dataset.\"\"\"\n",
    "    total_max = 0\n",
    "    for data in train_loader:\n",
    "        this_max = data.max()\n",
    "\n",
    "        if this_max > total_max: \n",
    "            total_max = this_max\n",
    "            \n",
    "    return total_max\n",
    "\n",
    "# max_val = get_total_max(train_loader)\n",
    "max_val = 15.4337\n",
    "    \n",
    "# Train data\n",
    "train_dataset = GasDataSet('data/30x25/train', max_val=max_val)\n",
    "train_loader = data.DataLoader(train_dataset, batch_size=30, shuffle=True, drop_last=True)\n",
    "\n",
    "# Test data\n",
    "test_dataset = GasDataSet('data/30x25/test', max_val=max_val)\n",
    "test_loader = data.DataLoader(test_dataset, batch_size=30, shuffle=True, drop_last=True)"
   ]
  },
  {
   "cell_type": "markdown",
   "id": "5ee56adf",
   "metadata": {},
   "source": [
    "## Definition of Model & Training Loop"
   ]
  },
  {
   "cell_type": "code",
   "execution_count": 4,
   "id": "8a9493b2",
   "metadata": {
    "ExecuteTime": {
     "end_time": "2022-01-10T15:03:51.977776Z",
     "start_time": "2022-01-10T15:03:51.773969Z"
    },
    "execution": {
     "iopub.execute_input": "2022-04-26T15:17:03.025064Z",
     "iopub.status.busy": "2022-04-26T15:17:03.024868Z",
     "iopub.status.idle": "2022-04-26T15:17:03.745918Z",
     "shell.execute_reply": "2022-04-26T15:17:03.745309Z",
     "shell.execute_reply.started": "2022-04-26T15:17:03.025037Z"
    }
   },
   "outputs": [],
   "source": [
    "import torch.nn.functional as F\n",
    "import torch.nn as nn\n",
    "from tqdm.notebook import tqdm\n",
    "import matplotlib.pyplot as plt\n",
    "\n",
    "\n",
    "def create_mask(n):\n",
    "    \"\"\"Create a mask that simulates a sensor position at every n-th grid cell.\"\"\"\n",
    "    mask = torch.zeros([30, 25])\n",
    "\n",
    "    for row in range(int(n/2), mask.shape[0], n):\n",
    "        for col in range(int(n/2), mask.shape[1], n):\n",
    "            mask[row, col] = 1\n",
    "\n",
    "    return mask\n",
    "\n",
    "\n",
    "def train(model, train_loader, num_epochs, criterion, optimizer):\n",
    "    \"\"\"Train the model with training data.\"\"\"\n",
    "    # Set model in training mode\n",
    "    model.train()\n",
    "\n",
    "    train_loss = []\n",
    "\n",
    "    num_batches = len(train_loader)\n",
    "\n",
    "    # Create a mask to generate sparse data\n",
    "    mask = create_mask(n=5).to(device)\n",
    "\n",
    "    # Initialize progress bars\n",
    "    pbar_epoch = tqdm(total=num_epochs)\n",
    "    pbar_epoch.set_description(\"Epochs\")\n",
    "\n",
    "    pbar_batch = tqdm(total=num_batches)\n",
    "    pbar_batch.set_description(\"Batches\")\n",
    "\n",
    "    # Iterate over the epochs\n",
    "    for epoch in range(num_epochs):\n",
    "        running_loss = 0\n",
    "        # Iterate over the batches\n",
    "        for X in train_loader:\n",
    "            X = X.to(device)\n",
    "            # Create sparse input data\n",
    "            X_masked = mask*X\n",
    "            # Generate output\n",
    "            y_hat = model(X_masked)\n",
    "\n",
    "            # Calculate loss\n",
    "            loss = criterion(y_hat, X)\n",
    "\n",
    "            # Update weights according to the calculated loss\n",
    "            optimizer.zero_grad()\n",
    "            loss.backward()\n",
    "            optimizer.step()\n",
    "\n",
    "            # Increment the loss\n",
    "            running_loss += loss.item()\n",
    "\n",
    "            pbar_batch.update(1)\n",
    "\n",
    "        pbar_batch.reset()\n",
    "        pbar_epoch.update(1)\n",
    "\n",
    "        # Average the loss over entire batch\n",
    "        running_loss /= num_batches\n",
    "        train_loss.append(running_loss)\n",
    "\n",
    "    # Plot the training loss\n",
    "    plt.plot(range(1, num_epochs+1), train_loss)\n",
    "    plt.xlabel(\"Number of epochs\")\n",
    "    plt.ylabel(\"Training Loss\")\n",
    "    plt.show()\n",
    "\n",
    "    return model\n",
    "\n",
    "\n",
    "class model(torch.nn.Module):\n",
    "    \"\"\"The actual PyTorch model of the neural network.\"\"\"\n",
    "\n",
    "    def __init__(self):\n",
    "        \"\"\"Definition of all layers.\"\"\"\n",
    "        super().__init__()\n",
    "\n",
    "        self.encoder = torch.nn.Sequential(\n",
    "            nn.Conv2d(1, 16, kernel_size=(3, 3), stride=2,\n",
    "                      padding=1),   # N, 16, 15, 13\n",
    "            nn.ReLU(),\n",
    "            nn.Conv2d(16, 32, kernel_size=(3, 3),\n",
    "                      stride=2, padding=1),  # N, 32, 8, 7\n",
    "            nn.ReLU(),\n",
    "            # N, 64, 6, 5\n",
    "            nn.Conv2d(32, 64, kernel_size=(3, 3)),\n",
    "        )\n",
    "\n",
    "        self.decoder = torch.nn.Sequential(\n",
    "            nn.ConvTranspose2d(64, 32, kernel_size=(\n",
    "                3, 3)),                      # N, 32, 8, 7\n",
    "            nn.ReLU(),\n",
    "            nn.ConvTranspose2d(32, 16, kernel_size=(\n",
    "                3, 3), stride=2, padding=1),  # N, 16, 15, 13\n",
    "            nn.ReLU(),\n",
    "            nn.ConvTranspose2d(16, 1,  kernel_size=(3, 3),\n",
    "                               stride=2, padding=1, output_padding=(1, 0)),      # N, 1, 30, 25\n",
    "            # torch.nn.ReLU()\n",
    "            torch.nn.Sigmoid()\n",
    "        )\n",
    "\n",
    "    def forward(self, x):\n",
    "        \"\"\"Forward pass that will be performend, if the model is called.\"\"\"\n",
    "        encoded = self.encoder(x)\n",
    "        decoded = self.decoder(encoded)\n",
    "        return decoded"
   ]
  },
  {
   "cell_type": "markdown",
   "id": "616bf22c",
   "metadata": {},
   "source": [
    "## Parameters & Training"
   ]
  },
  {
   "cell_type": "code",
   "execution_count": 5,
   "id": "053d49a9",
   "metadata": {
    "ExecuteTime": {
     "end_time": "2022-01-10T15:03:51.988804Z",
     "start_time": "2022-01-10T15:03:51.979746Z"
    },
    "execution": {
     "iopub.execute_input": "2022-04-26T15:17:05.955275Z",
     "iopub.status.busy": "2022-04-26T15:17:05.954427Z",
     "iopub.status.idle": "2022-04-26T15:17:05.982059Z",
     "shell.execute_reply": "2022-04-26T15:17:05.981325Z",
     "shell.execute_reply.started": "2022-04-26T15:17:05.955238Z"
    }
   },
   "outputs": [],
   "source": [
    "# Instantiating the model and hyperparameters\n",
    "model = model()\n",
    "# Send model to device\n",
    "model.to(device) \n",
    "\n",
    "\n",
    "# TRAINING PARAMETERS\n",
    "criterion = nn.MSELoss()\n",
    "num_epochs = 1          \n",
    "optimizer = torch.optim.Adam(model.parameters(), lr=1e-3)\n",
    "\n",
    "\n",
    "# Train the model\n",
    "#model = train(model, train_loader, num_epochs, criterion, optimizer)"
   ]
  },
  {
   "cell_type": "markdown",
   "id": "7137760d",
   "metadata": {},
   "source": [
    "Save & Load existing models"
   ]
  },
  {
   "cell_type": "code",
   "execution_count": 6,
   "id": "d52a038c",
   "metadata": {
    "ExecuteTime": {
     "end_time": "2022-01-10T15:03:52.000195Z",
     "start_time": "2022-01-10T15:03:51.990901Z"
    },
    "execution": {
     "iopub.execute_input": "2022-04-26T15:17:06.687191Z",
     "iopub.status.busy": "2022-04-26T15:17:06.686359Z",
     "iopub.status.idle": "2022-04-26T15:17:06.711401Z",
     "shell.execute_reply": "2022-04-26T15:17:06.710375Z",
     "shell.execute_reply.started": "2022-04-26T15:17:06.687103Z"
    },
    "tags": []
   },
   "outputs": [
    {
     "data": {
      "text/plain": [
       "model(\n",
       "  (encoder): Sequential(\n",
       "    (0): Conv2d(1, 16, kernel_size=(3, 3), stride=(2, 2), padding=(1, 1))\n",
       "    (1): ReLU()\n",
       "    (2): Conv2d(16, 32, kernel_size=(3, 3), stride=(2, 2), padding=(1, 1))\n",
       "    (3): ReLU()\n",
       "    (4): Conv2d(32, 64, kernel_size=(3, 3), stride=(1, 1))\n",
       "  )\n",
       "  (decoder): Sequential(\n",
       "    (0): ConvTranspose2d(64, 32, kernel_size=(3, 3), stride=(1, 1))\n",
       "    (1): ReLU()\n",
       "    (2): ConvTranspose2d(32, 16, kernel_size=(3, 3), stride=(2, 2), padding=(1, 1))\n",
       "    (3): ReLU()\n",
       "    (4): ConvTranspose2d(16, 1, kernel_size=(3, 3), stride=(2, 2), padding=(1, 1), output_padding=(1, 0))\n",
       "    (5): Sigmoid()\n",
       "  )\n",
       ")"
      ]
     },
     "execution_count": 6,
     "metadata": {},
     "output_type": "execute_result"
    }
   ],
   "source": [
    "PATH = 'models/model_100epochs.pt'\n",
    "\n",
    "# Save\n",
    "# torch.save(model.state_dict(), PATH)\n",
    "\n",
    "# Load\n",
    "model.load_state_dict(torch.load(PATH, map_location=device))\n",
    "\n",
    "# Set model to evaluation mode\n",
    "model.eval()\n",
    "model.to(device) \n"
   ]
  },
  {
   "cell_type": "markdown",
   "id": "2d5f89ef",
   "metadata": {},
   "source": [
    "## Evaluation\n",
    "Additional function for comparison of the autoencoder with interpolation."
   ]
  },
  {
   "cell_type": "code",
   "execution_count": 7,
   "id": "e1dc6290",
   "metadata": {
    "ExecuteTime": {
     "end_time": "2022-01-10T15:04:59.210334Z",
     "start_time": "2022-01-10T15:03:52.002547Z"
    },
    "execution": {
     "iopub.execute_input": "2022-04-26T15:17:07.656916Z",
     "iopub.status.busy": "2022-04-26T15:17:07.655778Z",
     "iopub.status.idle": "2022-04-26T15:18:06.829007Z",
     "shell.execute_reply": "2022-04-26T15:18:06.827900Z",
     "shell.execute_reply.started": "2022-04-26T15:17:07.656766Z"
    }
   },
   "outputs": [
    {
     "data": {
      "text/plain": [
       "tensor(0.0042)"
      ]
     },
     "execution_count": 7,
     "metadata": {},
     "output_type": "execute_result"
    }
   ],
   "source": [
    "import scipy.interpolate as interpolate\n",
    "\n",
    "def interpolate_batch(X, function='gaussian'):\n",
    "    \"\"\"Interpolate a batch of size [batch, channel, width, height]\"\"\"\n",
    "    all_interpolated = torch.empty([1,30,25])\n",
    "    \n",
    "    for sample in range(X.shape[0]):\n",
    "        this_X = X[sample][0]\n",
    "        \n",
    "        r = np.linspace(0, 1, this_X.shape[0])\n",
    "        c = np.linspace(0, 1, this_X.shape[1])\n",
    "\n",
    "        rr, cc = np.meshgrid(c, r)\n",
    "        vals = ~(this_X == 0)\n",
    "        \n",
    "        try:\n",
    "            f = interpolate.Rbf(rr[vals], cc[vals], this_X[vals], function=function)\n",
    "            interpolated = f(rr, cc)\n",
    "        except:\n",
    "            interpolated = this_X      \n",
    "\n",
    "        interpolated = torch.tensor(interpolated)\n",
    "        all_interpolated = torch.cat([all_interpolated, interpolated.unsqueeze(0)])\n",
    "        \n",
    "    all_interpolated = all_interpolated.unsqueeze(1)\n",
    "    return all_interpolated[1:]\n",
    "\n",
    "\n",
    "\n",
    "with torch.no_grad():\n",
    "    mask = create_mask(n=5).to(device)\n",
    "    mse_model = 0\n",
    "    mse_inverse = 0\n",
    "    mse_gaussian = 0\n",
    "    \n",
    "    # Calculate the average MSE for each batch\n",
    "    for X in test_loader:\n",
    "        X_masked = X.to(device) * mask.to(device)  \n",
    "        \n",
    "        pred = model(X_masked)\n",
    "        mse_model += criterion(pred, X.to(device))\n",
    "        \n",
    "        inverse = interpolate_batch(X_masked.detach().cpu().numpy(), 'inverse')\n",
    "        mse_inverse += criterion(inverse, X)\n",
    "        \n",
    "        gaussian = interpolate_batch(X_masked.detach().cpu().numpy(), 'gaussian')\n",
    "        mse_gaussian += criterion(gaussian, X)\n",
    "            \n",
    "            \n",
    "    num_test_batches = len(test_loader)\n",
    "    \n",
    "    # Calculate mean MSE by dividing summed MSE by number of batches\n",
    "    mse_model = mse_model/num_test_batches\n",
    "    mse_inverse = mse_inverse/num_test_batches\n",
    "    mse_gaussian = mse_gaussian/num_test_batches\n",
    "    \n",
    "mse_model"
   ]
  },
  {
   "cell_type": "markdown",
   "id": "5f3f8f2e",
   "metadata": {},
   "source": [
    "# Visualizations"
   ]
  },
  {
   "cell_type": "code",
   "execution_count": 8,
   "id": "f5ef8105",
   "metadata": {
    "ExecuteTime": {
     "end_time": "2022-01-10T15:05:01.035457Z",
     "start_time": "2022-01-10T15:04:59.214676Z"
    },
    "execution": {
     "iopub.execute_input": "2022-04-26T15:18:06.830761Z",
     "iopub.status.busy": "2022-04-26T15:18:06.830357Z",
     "iopub.status.idle": "2022-04-26T15:18:07.835750Z",
     "shell.execute_reply": "2022-04-26T15:18:07.835139Z",
     "shell.execute_reply.started": "2022-04-26T15:18:06.830726Z"
    }
   },
   "outputs": [
    {
     "data": {
      "image/png": "[encoded data removed]",
      "text/plain": [
       "<Figure size 1080x720 with 25 Axes>"
      ]
     },
     "metadata": {
      "needs_background": "light"
     },
     "output_type": "display_data"
    }
   ],
   "source": [
    "import matplotlib.pyplot as plt\n",
    "import numpy as np\n",
    "\n",
    "plt.rcParams['figure.figsize'] = 15, 10\n",
    "\n",
    "model.eval()\n",
    "\n",
    "\n",
    "# INPUT\n",
    "X = iter(test_loader).next()\n",
    "mask = create_mask(5)\n",
    "X_masked = X * mask\n",
    "\n",
    "# PREDICTION\n",
    "pred = model(X_masked.to(device))\n",
    "\n",
    "# INTERPOLATION\n",
    "inverse = interpolate_batch(X_masked.detach().cpu().numpy(), 'inverse')\n",
    "gaussian = interpolate_batch(X_masked.detach().cpu().numpy(), 'gaussian')\n",
    "\n",
    "for idx in range(1, 25, 5):\n",
    "    # TRUTH\n",
    "    plt.subplot(5, 5, idx)\n",
    "    plt.title('Truth')\n",
    "    plt.imshow(X[idx][0].detach().cpu().numpy(), cmap='viridis', vmin=0, vmax=1)\n",
    "    plt.axis('off')   \n",
    "    \n",
    "    # INPUT\n",
    "    plt.subplot(5, 5, idx+1)\n",
    "    plt.title('Input')\n",
    "    plt.imshow(X_masked[idx][0].detach().cpu().numpy(), cmap='viridis', vmin=0, vmax=1)\n",
    "    plt.axis('off')   \n",
    "    \n",
    "    # PREDICTION\n",
    "    plt.subplot(5, 5, (idx+2))\n",
    "    plt.title('Autoencoder prediction')\n",
    "    plt.imshow(pred[idx][0].detach().cpu().numpy(), cmap='viridis', vmin=0, vmax=1)\n",
    "    plt.axis('off')\n",
    "\n",
    "    # INTERPOLATION\n",
    "    plt.subplot(5, 5, (idx+3))\n",
    "    plt.title('Interpolation (inverse)')\n",
    "    plt.imshow(inverse[idx][0])\n",
    "    plt.axis('off')\n",
    "    \n",
    "    plt.subplot(5, 5, (idx+4))\n",
    "    plt.title('Interpolation (gaussian)')\n",
    "    plt.imshow(gaussian[idx][0])\n",
    "    plt.axis('off')\n",
    "\n",
    "\n",
    "plt.show()"
   ]
  },
  {
   "cell_type": "markdown",
   "id": "a10c55b7-9c1e-4500-b7df-5aa01a6ad439",
   "metadata": {},
   "source": [
    "Find best samples"
   ]
  },
  {
   "cell_type": "code",
   "execution_count": null,
   "id": "f05325bc-2039-4bf4-8ac2-dc372b87c298",
   "metadata": {},
   "outputs": [],
   "source": [
    "\n",
    "\n",
    "with torch.no_grad():\n",
    "    mask = create_mask(n=5).to(device)\n",
    "    mse_model = 0\n",
    "    mse_inverse = 0\n",
    "    mse_gaussian = 0\n",
    "    \n",
    "    # Calculate the average MSE for each batch\n",
    "    for X in test_loader:\n",
    "        X_masked = X.to(device) * mask.to(device)  \n",
    "        \n",
    "        pred = model(X_masked)\n",
    "        mse_model += criterion(pred, X.to(device))\n",
    "        \n",
    "        inverse = interpolate_batch(X_masked.detach().cpu().numpy(), 'inverse')\n",
    "        mse_inverse += criterion(inverse, X)\n",
    "        \n",
    "        gaussian = interpolate_batch(X_masked.detach().cpu().numpy(), 'gaussian')\n",
    "        mse_gaussian += criterion(gaussian, X)"
   ]
  }
 ],
 "metadata": {
  "kernelspec": {
   "display_name": "Python 3 (ipykernel)",
   "language": "python",
   "name": "python3"
  },
  "language_info": {
   "codemirror_mode": {
    "name": "ipython",
    "version": 3
   },
   "file_extension": ".py",
   "mimetype": "text/x-python",
   "name": "python",
   "nbconvert_exporter": "python",
   "pygments_lexer": "ipython3",
   "version": "3.7.12"
  },
  "varInspector": {
   "cols": {
    "lenName": 16,
    "lenType": 16,
    "lenVar": 40
   },
   "kernels_config": {
    "python": {
     "delete_cmd_postfix": "",
     "delete_cmd_prefix": "del ",
     "library": "var_list.py",
     "varRefreshCmd": "print(var_dic_list())"
    },
    "r": {
     "delete_cmd_postfix": ") ",
     "delete_cmd_prefix": "rm(",
     "library": "var_list.r",
     "varRefreshCmd": "cat(var_dic_list()) "
    }
   },
   "types_to_exclude": [
    "module",
    "function",
    "builtin_function_or_method",
    "instance",
    "_Feature"
   ],
   "window_display": false
  }
 },
 "nbformat": 4,
 "nbformat_minor": 5
}
